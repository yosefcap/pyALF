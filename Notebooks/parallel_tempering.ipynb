{
 "cells": [
  {
   "cell_type": "markdown",
   "metadata": {},
   "source": [
    "# ALF Tutorial 2.0 \n",
    "## Introductory examples and exercises"
   ]
  },
  {
   "cell_type": "markdown",
   "metadata": {},
   "source": [
    "This notebook is part of the [Tutorial 2.0](https://git.physik.uni-wuerzburg.de/ALF/ALF_Tutorial) for the quantum Monte Carlo simulation package [*Algorithms for Lattice Fermions* - ALF](https://git.physik.uni-wuerzburg.de/ALF/ALF_code), and can be found, together with its required files, in the [pyALF repository](https://git.physik.uni-wuerzburg.de/ALF/pyALF).\n",
    "\n",
    "ALF is compiled from source, which is downloaded from the [ALF repository](https://git.physik.uni-wuerzburg.de:ALF) when not found locally.\n",
    "\n",
    "[**REMEMBER TO UPDATE GIT ADDRESSES**]"
   ]
  },
  {
   "cell_type": "markdown",
   "metadata": {},
   "source": [
    "# How to do parallel tempering in ALF"
   ]
  },
  {
   "cell_type": "markdown",
   "metadata": {},
   "source": [
    "Parallel tempering can be used for overcoming sampling issues in part of the parameter space. For a chosen parameter and parameter values, parallel simulations are carried out at the different parameter values, with Monte Carlo sampling taking place over the extended ensemble.\n",
    "\n",
    "Note that ALF must be recompiled when using this feature for the first time.\n",
    "\n",
    "Bellow we go through the steps for using this feature: setting the simulation parameters, including the tempering ones, running it and analyzing the data.\n",
    "\n",
    "---\n",
    "\n",
    "1. Import `Simulation` class from the `py_alf` python module, which provides the interface with ALF, as well as mathematics and plotting packages:"
   ]
  },
  {
   "cell_type": "code",
   "execution_count": 1,
   "metadata": {},
   "outputs": [],
   "source": [
    "import os\n",
    "from py_alf import Simulation            # Interface with ALF\n",
    "# \n",
    "import numpy as np                       # Numerical library\n",
    "from scipy.optimize import curve_fit     # Numerical library\n",
    "import matplotlib.pyplot as plt          # Plotting library"
   ]
  },
  {
   "cell_type": "markdown",
   "metadata": {},
   "source": [
    "2. Create a list of dictionaries, specifying the necessary parameters.\n",
    "   Here we are varying Hubbard interaction strength `ham_U`."
   ]
  },
  {
   "cell_type": "code",
   "execution_count": 2,
   "metadata": {},
   "outputs": [],
   "source": [
    "sim_dicts = []\n",
    "for ham_U in [3.5, 4.0]:\n",
    "    sim_dicts.append({             # Model and simulation parameters for each Simulation instance\n",
    "        \"Model\": \"Hubbard\",        #    Base model\n",
    "        \"Lattice_type\": \"Square\",  #    Lattice type\n",
    "        \"L1\": 4,                   #    Lattice length in the first unit vector direction\n",
    "        \"L2\": 1,                   #    Lattice length in the second unit vector direction\n",
    "        'ham_T': 1.0,              #    Hopping parameter\n",
    "        'ham_U': ham_U,            #    Hubbard interaction\n",
    "        'ham_Tperp': 0.0,          #    For bilayer systems\n",
    "        'beta': 2.0,               #    Inverse temperature\n",
    "        \"NSweep\": 100,             #    Number of sweeps per bin\n",
    "        \"NBin\": 100,               #    Number of bins\n",
    "        'Dtau': 0.1,               #    Ltrot=Beta/dtau\n",
    "        'Mz': True,                #    If true, sets the M_z-Hubbard model: Nf=2, N_sum=1,\n",
    "        },                         #    HS field couples to z-component of magnetization\n",
    "    )"
   ]
  },
  {
   "cell_type": "markdown",
   "metadata": {},
   "source": [
    "3. Create an instance of `Simulation` using the parameters above and also set ALF to run in parallel using MPI."
   ]
  },
  {
   "cell_type": "code",
   "execution_count": 3,
   "metadata": {},
   "outputs": [],
   "source": [
    "sim = Simulation(\n",
    "    'Hubbard',                     # Hamiltonian to use\n",
    "    sim_dicts,                     # Setting non-default parameters\n",
    "    n_mpi = 4,                     # Number of MPI processes\n",
    "    mpiexec='mpiexec.openmpi',     # Command for invoking parallel executables\n",
    "    alf_dir=os.getenv('ALF_DIR', './ALF'), # Directory with ALF source code. Gets it from \n",
    "                                           # environment variable ALF_DIR, if present\n",
    "    )"
   ]
  },
  {
   "cell_type": "markdown",
   "metadata": {},
   "source": [
    "4. Set environment and compilation variables."
   ]
  },
  {
   "cell_type": "code",
   "execution_count": 4,
   "metadata": {},
   "outputs": [
    {
     "data": {
      "text/plain": [
       "'GNU MPI TEMPERING'"
      ]
     },
     "execution_count": 4,
     "metadata": {},
     "output_type": "execute_result"
    }
   ],
   "source": [
    "sim.config"
   ]
  },
  {
   "cell_type": "markdown",
   "metadata": {},
   "source": [
    "5. Compile ALF, downloading it first if not found locally. This may take a few minutes:"
   ]
  },
  {
   "cell_type": "code",
   "execution_count": 5,
   "metadata": {},
   "outputs": [
    {
     "name": "stdout",
     "output_type": "stream",
     "text": [
      "Compiling ALF... Done.\n"
     ]
    }
   ],
   "source": [
    "sim.compile()"
   ]
  },
  {
   "cell_type": "markdown",
   "metadata": {},
   "source": [
    "6. Perform the simulations, as specified in `sim`:"
   ]
  },
  {
   "cell_type": "code",
   "execution_count": 6,
   "metadata": {},
   "outputs": [
    {
     "name": "stdout",
     "output_type": "stream",
     "text": [
      "Prepare directory \"/home/jonas/Programs/pyALF/temper_Hubbard_Square_L1=4_L2=1_T=1.0_U=3.5_Tperp=0.0_Dtau=0.1\" for Monte Carlo run.\n",
      "Prepare directory \"/home/jonas/Programs/pyALF/temper_Hubbard_Square_L1=4_L2=1_T=1.0_U=3.5_Tperp=0.0_Dtau=0.1/Temp_0\" for Monte Carlo run.\n",
      "Resuming previous run.\n",
      "Prepare directory \"/home/jonas/Programs/pyALF/temper_Hubbard_Square_L1=4_L2=1_T=1.0_U=3.5_Tperp=0.0_Dtau=0.1/Temp_1\" for Monte Carlo run.\n",
      "Resuming previous run.\n",
      "Run /home/jonas/Programs/pyALF/ALF/Prog/Hubbard.out\n"
     ]
    }
   ],
   "source": [
    "sim.run()"
   ]
  },
  {
   "cell_type": "markdown",
   "metadata": {},
   "source": [
    "7. Perform some simple analyses:"
   ]
  },
  {
   "cell_type": "code",
   "execution_count": 7,
   "metadata": {
    "scrolled": true
   },
   "outputs": [
    {
     "name": "stdout",
     "output_type": "stream",
     "text": [
      "Analysing Part_scal\n",
      "Analysing Kin_scal\n",
      "Analysing Ener_scal\n",
      "Analysing Acc_Temp_scal\n",
      "Analysing Pot_scal\n",
      "Analysing SpinT_eq\n",
      "Analysing SpinZ_eq\n",
      "Analysing SpinXY_eq\n",
      "Analysing Green_eq\n",
      "Analysing Den_eq\n",
      "Analysing SpinZ_tau\n",
      "Analysing Den_tau\n",
      "Analysing SpinXY_tau\n",
      "Analysing SpinT_tau\n",
      "Analysing Green_tau\n",
      "Analysing Part_scal\n",
      "Analysing Kin_scal\n",
      "Analysing Ener_scal\n",
      "Analysing Acc_Temp_scal\n",
      "Analysing Pot_scal\n",
      "Analysing SpinT_eq\n",
      "Analysing SpinZ_eq\n",
      "Analysing SpinXY_eq\n",
      "Analysing Green_eq\n",
      "Analysing Den_eq\n",
      "Analysing SpinZ_tau\n",
      "Analysing Den_tau\n",
      "Analysing SpinXY_tau\n",
      "Analysing SpinT_tau\n",
      "Analysing Green_tau\n"
     ]
    }
   ],
   "source": [
    "sim.analysis()"
   ]
  }
 ],
 "metadata": {
  "kernelspec": {
   "display_name": "Python 3",
   "language": "python",
   "name": "python3"
  },
  "language_info": {
   "codemirror_mode": {
    "name": "ipython",
    "version": 3
   },
   "file_extension": ".py",
   "mimetype": "text/x-python",
   "name": "python",
   "nbconvert_exporter": "python",
   "pygments_lexer": "ipython3",
   "version": "3.7.7"
  }
 },
 "nbformat": 4,
 "nbformat_minor": 2
}
