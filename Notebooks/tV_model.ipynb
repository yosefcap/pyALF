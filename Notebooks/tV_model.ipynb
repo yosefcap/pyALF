{
 "cells": [
  {
   "cell_type": "markdown",
   "metadata": {},
   "source": [
    "# The t-V model"
   ]
  },
  {
   "cell_type": "markdown",
   "metadata": {},
   "source": [
    "In this example we use the [pyALF](https://git.physik.uni-wuerzburg.de/ALF/pyALF) interface to run the one dimensional t-V model of spinless fermions, given by:\n",
    "$$\n",
    "\\hat{H} =  -t \\sum_{i} \\left( \\hat{c}^{\\dagger}_{i}  \\hat{c}^{\\phantom\\dagger}_{i+a}      + \\hat{c}^{\\dagger}_{i+a}  \\hat{c}^{\\phantom\\dagger}_{i} \\right) - V \\sum_{i}  \\left( \\hat{c}^{\\dagger}_{i}  \\hat{c}^{\\phantom\\dagger}_{i+a}      + \\hat{c}^{\\dagger}_{i+a}  \\hat{c}^{\\phantom\\dagger}_{i} \\right)^2.\n",
    "$$\n",
    "Expanding the square yields (up to a constant) the model as implemented in ALF: \n",
    "$$\n",
    "\\hat{H} =  -t \\sum_{i} \\left( \\hat{c}^{\\dagger}_{i}  \\hat{c}^{\\phantom\\dagger}_{i+a}      + \\hat{c}^{\\dagger}_{i+a}  \\hat{c}^{\\phantom\\dagger}_{i} \\right)  + 2 V  \\sum_{i}  \\left( \\hat{n}_{i} - 1/2 \\right)  \\left( \\hat{n}_{i+a} - 1/2 \\right).\n",
    "$$\n",
    "\n",
    "Below, the t-V model is run on a default configuration: a $6\\times6$ square grid, with interaction strength $V=0.5$ and inverse temperature $\\beta = 5$.\n",
    "\n",
    "---\n",
    "\n",
    "**1.** Import `Simulation` class from the `py_alf` python module, which provides the interface with ALF:"
   ]
  },
  {
   "cell_type": "code",
   "execution_count": null,
   "metadata": {},
   "outputs": [],
   "source": [
    "import os\n",
    "from py_alf import Simulation            # Interface with ALF"
   ]
  },
  {
   "cell_type": "markdown",
   "metadata": {},
   "source": [
    "**2.** Create an instance of `Simulation`, setting parameters as desired:"
   ]
  },
  {
   "cell_type": "code",
   "execution_count": null,
   "metadata": {},
   "outputs": [],
   "source": [
    "sim = Simulation(\n",
    "    \"tV\",                                # Hamiltonian\n",
    "    {                                    # Model and simulation parameters for each Simulation instance\n",
    "    \"Model\": \"tV\",                       # t-V model\n",
    "    \"Lattice_type\": \"Square\",            # Lattice type\n",
    "    \"N_SUN\": 1},                         # spinless fermions\n",
    "    alf_dir=os.getenv('ALF_DIR', './ALF'), # Directory with ALF source code. Gets it from \n",
    "                                           # environment variable ALF_DIR, if present\n",
    ")"
   ]
  },
  {
   "cell_type": "markdown",
   "metadata": {},
   "source": [
    "**3.** Compile ALF, downloading it first from the [ALF repository](https://git.physik.uni-wuerzburg.de:ALF) if not found locally. This may take a few minutes:"
   ]
  },
  {
   "cell_type": "code",
   "execution_count": null,
   "metadata": {},
   "outputs": [],
   "source": [
    "sim.compile()                            # Compilation needs to be performed only once"
   ]
  },
  {
   "cell_type": "markdown",
   "metadata": {},
   "source": [
    "**4.** Perform the simulation as specified in `sim`:"
   ]
  },
  {
   "cell_type": "code",
   "execution_count": null,
   "metadata": {
    "scrolled": true
   },
   "outputs": [],
   "source": [
    "sim.run()                                # Perform the actual simulation in ALF"
   ]
  },
  {
   "cell_type": "markdown",
   "metadata": {},
   "source": [
    "**5.** Perform some simple analyses:"
   ]
  },
  {
   "cell_type": "code",
   "execution_count": null,
   "metadata": {
    "scrolled": true
   },
   "outputs": [],
   "source": [
    "sim.analysis()                           # Perform default analysis; list observables"
   ]
  },
  {
   "cell_type": "markdown",
   "metadata": {},
   "source": [
    "**6.** Store computed observables list:"
   ]
  },
  {
   "cell_type": "code",
   "execution_count": null,
   "metadata": {},
   "outputs": [],
   "source": [
    "obs = sim.get_obs()                      # Dictionary for the observables"
   ]
  },
  {
   "cell_type": "markdown",
   "metadata": {},
   "source": [
    "which are available for further analyses. For instance, the internal energy of the system (and its error) is accessed by:"
   ]
  },
  {
   "cell_type": "code",
   "execution_count": null,
   "metadata": {},
   "outputs": [],
   "source": [
    "obs['Ener_scalJ']['obs']"
   ]
  },
  {
   "cell_type": "markdown",
   "metadata": {},
   "source": [
    "---\n",
    "**7.** Running again: The simulation can be resumed to increase the precision of the results."
   ]
  },
  {
   "cell_type": "code",
   "execution_count": null,
   "metadata": {},
   "outputs": [],
   "source": [
    "sim.run()\n",
    "sim.analysis()\n",
    "obs2 = sim.get_obs()\n",
    "print(obs2['Ener_scalJ']['obs'])\n",
    "print(\"\\nRunning again reduced the error from \", obs['Ener_scalJ']['obs'][0][1],\" to \", obs2['Ener_scalJ']['obs'][0][1], \".\")"
   ]
  },
  {
   "cell_type": "markdown",
   "metadata": {},
   "source": [
    "**Note**: To run a fresh simulation - instead of performing a refinement over previous run(s) - the Monte Carlo run directory should deleted before rerunning."
   ]
  },
  {
   "cell_type": "markdown",
   "metadata": {},
   "source": [
    "---\n",
    "## Exercises\n",
    "1. Rerun once again and check the new improvement in precision. (ONE COULD discuss the spike issue here!)\n",
    "2. Look at a few other observables (`sim.analysis()` outputs the names of those available).\n",
    "3. Change the lattice size by adding, e.g., `\"L1\": 4,` and `\"L2\": 1,` to the simulation parameters definitions of `sim` (step 2). (May look at bilayer systems instead?)"
   ]
  },
  {
   "cell_type": "code",
   "execution_count": null,
   "metadata": {},
   "outputs": [],
   "source": []
  }
 ],
 "metadata": {
  "kernelspec": {
   "display_name": "Python 3",
   "language": "python",
   "name": "python3"
  },
  "language_info": {
   "codemirror_mode": {
    "name": "ipython",
    "version": 3
   },
   "file_extension": ".py",
   "mimetype": "text/x-python",
   "name": "python",
   "nbconvert_exporter": "python",
   "pygments_lexer": "ipython3",
   "version": "3.7.7"
  }
 },
 "nbformat": 4,
 "nbformat_minor": 2
}
