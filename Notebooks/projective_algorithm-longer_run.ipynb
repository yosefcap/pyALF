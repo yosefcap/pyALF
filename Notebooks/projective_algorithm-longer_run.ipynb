{
 "cells": [
  {
   "cell_type": "markdown",
   "metadata": {},
   "source": [
    "# Projective algorithm "
   ]
  },
  {
   "cell_type": "markdown",
   "metadata": {},
   "source": [
    "In this example we use the [pyALF](https://git.physik.uni-wuerzburg.de/ALF/pyALF) interface to run ALF's projective algorithm with the Mz choice of Hubbard Stratonovich transformation on a 4-site ring.\n",
    "\n",
    "The projective approach is the method of choice if  one is interested in ground-state properties. The starting point is a pair of trial wave functions,  $|\\Psi_{T,L/R} \\rangle$,  that are  not orthogonal to the ground state $|\\Psi_0 \\rangle$:\n",
    "$$\n",
    "  \\langle \\Psi_{T,L/R}  | \\Psi_0 \\rangle  \\neq 0. \n",
    "$$\n",
    "The ground-state expectation value of  any  observable  $\\hat{O}$ can then be computed by  propagation along the imaginary time axis:\n",
    "$$\n",
    "\t \\frac{ \\langle \\Psi_0 | \\hat{O} | \\Psi_0 \\rangle }{ \\langle \\Psi_0 | \\Psi_0 \\rangle}   = \\lim_{\\theta \\rightarrow \\infty}  \n",
    "\t \\frac{ \\langle \\Psi_{T,L} | e^{-\\theta \\hat{H}}  e^{-(\\beta - \\tau)\\hat{H}  }\\hat{O} e^{- \\tau  \\hat{H} }   e^{-\\theta \\hat{H}} | \\Psi_{T,R} \\rangle } \n",
    "\t        { \\langle \\Psi_{T,L} | e^{-(2 \\theta + \\beta) \\hat{H}  } | \\Psi_{T,R} \\rangle } ,\n",
    "$$\n",
    "where $\\beta$ defines the imaginary time range where observables (time displaced and equal time) are measured and $\\tau$ varies from $0$ to $\\beta$ in the calculation of time-displace observables. For further details, see Sec. 3 of [ALF documentation](https://git.physik.uni-wuerzburg.de/ALF/ALF_code/-/blob/master/Documentation/ALF_v1.0.pdf).\n",
    "\n",
    "---\n",
    "\n",
    "**1.** Import `Simulation` class from the `py_alf` python module, which provides the interface with ALF, as well as numerical and plotting packages:"
   ]
  },
  {
   "cell_type": "code",
   "execution_count": 1,
   "metadata": {},
   "outputs": [],
   "source": [
    "import os\n",
    "from py_alf import Simulation            # Interface with ALF\n",
    "# \n",
    "import numpy as np                       # Numerical library\n",
    "from scipy.optimize import curve_fit     # Numerical library\n",
    "import matplotlib.pyplot as plt          # Plotting library"
   ]
  },
  {
   "cell_type": "markdown",
   "metadata": {},
   "source": [
    " **2.** Create instances of `Simulation`, specifying the necessary parameters, in particular the `Projector` to `True`:"
   ]
  },
  {
   "cell_type": "code",
   "execution_count": 8,
   "metadata": {},
   "outputs": [
    {
     "name": "stdout",
     "output_type": "stream",
     "text": [
      "Theta values used:\n",
      "2.5\n",
      "5\n",
      "10\n",
      "20\n"
     ]
    }
   ],
   "source": [
    "sims = []                                # Vector of Simulation instances\n",
    "print('Theta values used:')\n",
    "for theta in [2.5, 5, 10, 20]:           # Values of Theta\n",
    "    print(theta)\n",
    "    sim = Simulation(\n",
    "        'Hubbard',                       # Hamiltonian\n",
    "        {                                # Model and simulation parameters for each Simulation instance\n",
    "        'Model': 'Hubbard',              #    Base model\n",
    "        'Lattice_type': 'N_leg_ladder',  #    Lattice type\n",
    "        'L1': 4,                         #    Lattice length in the first unit vector direction\n",
    "        'L2': 1,                         #    Lattice length in the second unit vector direction\n",
    "        'Checkerboard': False,           #    Whether checkerboard decomposition is used or not\n",
    "        'Symm': True,                    #    Whether symmetrization takes place\n",
    "        'Projector': True,               #    Whether to use the projective algorithm\n",
    "        'Theta': theta,                  #    Projector parameter\n",
    "        'ham_T': 1.0,                    #    Hopping parameter\n",
    "        'ham_U': 4.0,                    #    Hubbard interaction\n",
    "        'ham_Tperp': 0.0,                #    For bilayer systems\n",
    "        'beta': 1.0,                     #    Inverse temperature\n",
    "        'Ltau': 0,                       #    '1' for time-displaced Green functions; '0' otherwise \n",
    "        'NSweep': 1000,                  #    Number of sweeps per bin\n",
    "        'NBin': 100,                     #    Number of bins\n",
    "        'Dtau': 0.05,                    #    Only dtau varies between simulations, Ltrot=beta/Dtau\n",
    "        'Mz': True,                      #    If true, sets the M_z-Hubbard model: Nf=2, N_sum=1,\n",
    "        },                               #             HS field couples to z-component of magnetization\n",
    "        alf_dir='~/Programs/ALF',        # Local ALF copy, if present\n",
    "    )\n",
    "    sims.append(sim)"
   ]
  },
  {
   "cell_type": "markdown",
   "metadata": {},
   "source": [
    "**3.** Compile ALF, downloading it first if not found locally. This may take a few minutes:"
   ]
  },
  {
   "cell_type": "code",
   "execution_count": 3,
   "metadata": {},
   "outputs": [
    {
     "name": "stdout",
     "output_type": "stream",
     "text": [
      "Compiling ALF... Done.\n"
     ]
    }
   ],
   "source": [
    "sims[0].compile()                        # Compilation needs to be performed only once"
   ]
  },
  {
   "cell_type": "markdown",
   "metadata": {},
   "source": [
    "**4.** Perform the simulations, as specified in each element of `sim`:"
   ]
  },
  {
   "cell_type": "code",
   "execution_count": 9,
   "metadata": {
    "scrolled": true
   },
   "outputs": [
    {
     "name": "stdout",
     "output_type": "stream",
     "text": [
      "Prepare directory \"/home/stafusa/ALF/pyALF/Notebooks/ALF_data/Hubbard_N_leg_ladder_L1=4_L2=1_Checkerboard=False_Symm=True_Projector=True_Theta=2.5_T=1.0_U=4.0_Tperp=0.0_beta=1.0_Dtau=0.05_Mz=True\" for Monte Carlo run.\n",
      "Create new directory.\n",
      "Run /home/stafusa/Programs/ALF/Prog/Hubbard.out\n",
      "Prepare directory \"/home/stafusa/ALF/pyALF/Notebooks/ALF_data/Hubbard_N_leg_ladder_L1=4_L2=1_Checkerboard=False_Symm=True_Projector=True_Theta=5_T=1.0_U=4.0_Tperp=0.0_beta=1.0_Dtau=0.05_Mz=True\" for Monte Carlo run.\n",
      "Create new directory.\n",
      "Run /home/stafusa/Programs/ALF/Prog/Hubbard.out\n",
      "Prepare directory \"/home/stafusa/ALF/pyALF/Notebooks/ALF_data/Hubbard_N_leg_ladder_L1=4_L2=1_Checkerboard=False_Symm=True_Projector=True_Theta=10_T=1.0_U=4.0_Tperp=0.0_beta=1.0_Dtau=0.05_Mz=True\" for Monte Carlo run.\n",
      "Create new directory.\n",
      "Run /home/stafusa/Programs/ALF/Prog/Hubbard.out\n",
      "Prepare directory \"/home/stafusa/ALF/pyALF/Notebooks/ALF_data/Hubbard_N_leg_ladder_L1=4_L2=1_Checkerboard=False_Symm=True_Projector=True_Theta=20_T=1.0_U=4.0_Tperp=0.0_beta=1.0_Dtau=0.05_Mz=True\" for Monte Carlo run.\n",
      "Create new directory.\n",
      "Run /home/stafusa/Programs/ALF/Prog/Hubbard.out\n"
     ]
    }
   ],
   "source": [
    "for i, sim in enumerate(sims):\n",
    "    sim.run()                            # Perform the actual simulation in ALF"
   ]
  },
  {
   "cell_type": "markdown",
   "metadata": {},
   "source": [
    "**5.** Calculate the internal energies:"
   ]
  },
  {
   "cell_type": "code",
   "execution_count": 10,
   "metadata": {
    "scrolled": true
   },
   "outputs": [],
   "source": [
    "%%capture\n",
    "ener = np.empty((len(sims), 2))          # Matrix for storing energy values\n",
    "thetas = np.empty((len(sims),))          # Matrix for Thetas values, for plotting\n",
    "for i, sim in enumerate(sims):\n",
    "    print(sim.sim_dir)                   # Directory containing the simulation output\n",
    "    sim.analysis()                       # Perform default analysis\n",
    "    thetas[i] = sim.sim_dict['Theta']                           # Store Theta value\n",
    "    ener[i] = sim.get_obs(['Ener_scalJ'])['Ener_scalJ']['obs']  # Store internal energy"
   ]
  },
  {
   "cell_type": "markdown",
   "metadata": {},
   "source": [
    "Where the _cell magic_ `%%capture` suppresses the output of `sim.analysis()`, which lists the data directories and observables."
   ]
  },
  {
   "cell_type": "code",
   "execution_count": 11,
   "metadata": {},
   "outputs": [
    {
     "name": "stdout",
     "output_type": "stream",
     "text": [
      "For Theta values [ 2.5  5.  10.  20. ] the measured energies are:\n",
      " [[-2.096901  0.003658]\n",
      " [-2.102387  0.003942]\n",
      " [-2.10487   0.004517]\n",
      " [-2.096539  0.003257]]\n"
     ]
    }
   ],
   "source": [
    "print('For Theta values', thetas, 'the measured energies are:\\n', ener)"
   ]
  },
  {
   "cell_type": "code",
   "execution_count": 16,
   "metadata": {
    "scrolled": true
   },
   "outputs": [
    {
     "data": {
      "image/png": "[encoded data removed]",
      "text/plain": [
       "<Figure size 432x288 with 1 Axes>"
      ]
     },
     "metadata": {
      "needs_background": "light"
     },
     "output_type": "display_data"
    }
   ],
   "source": [
    "plt.errorbar(1/thetas, ener[:, 0], ener[:, 1]); plt.xlim(0, 0.45);"
   ]
  },
  {
   "cell_type": "markdown",
   "metadata": {},
   "source": [
    "---\n",
    "## Exercises\n",
    "1. A ladder system consists of chains assembled one next to the other, for instance, setting `L1=14`, `L2=3` defines a 3-leg ladder. It is a well-known result [[Dagotto and Rice, _Science_ 271 (1996), **5249**, pp. 618](doi.org/10.1126/science.271.5249.618)] that spin correlations in ladder systems decay as power laws (apart from logarithmic corrections) for odd-leg ladders, and exponentially for even-leg ladders. The paper presents numerical results for the Heisenberg model. How do these correlations behave for the Hubbard model at half-filling?"
   ]
  }
 ],
 "metadata": {
  "kernelspec": {
   "display_name": "Python 3",
   "language": "python",
   "name": "python3"
  },
  "language_info": {
   "codemirror_mode": {
    "name": "ipython",
    "version": 3
   },
   "file_extension": ".py",
   "mimetype": "text/x-python",
   "name": "python",
   "nbconvert_exporter": "python",
   "pygments_lexer": "ipython3",
   "version": "3.6.10"
  }
 },
 "nbformat": 4,
 "nbformat_minor": 2
}
