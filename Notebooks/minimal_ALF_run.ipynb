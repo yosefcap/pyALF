{
 "cells": [
  {
   "cell_type": "markdown",
   "metadata": {},
   "source": [
    "# A minimal ALF run"
   ]
  },
  {
   "cell_type": "markdown",
   "metadata": {},
   "source": [
    "In this bare-bones example we use the [pyALF](https://git.physik.uni-wuerzburg.de/ALF/pyALF) interface to run the canonical Hubbard model on a default configuration: a $6\\times6$ square grid, with interaction strength $U=4$ and inverse temperature $\\beta = 5$.  \n",
    "\n",
    "Bellow we go through the steps for performing the simulation and outputting observables.\n",
    "\n",
    "---\n",
    "\n",
    "**1.** Import `Simulation` class from the `py_alf` python module, which provides the interface with ALF:"
   ]
  },
  {
   "cell_type": "code",
   "execution_count": 1,
   "metadata": {},
   "outputs": [],
   "source": [
    "import os\n",
    "from py_alf import Simulation              # Interface with ALF"
   ]
  },
  {
   "cell_type": "markdown",
   "metadata": {},
   "source": [
    "**2.** Create an instance of `Simulation`, setting parameters as desired:"
   ]
  },
  {
   "cell_type": "code",
   "execution_count": 4,
   "metadata": {},
   "outputs": [],
   "source": [
    "sim = Simulation(\n",
    "    \"Hubbard\",                             # Hamiltonian\n",
    "    {                                      # Model and simulation parameters for each Simulation instance\n",
    "    \"Lattice_type\": \"Square\"},             # Lattice type\n",
    "    alf_dir=os.getenv('ALF_DIR', './ALF'), # Directory with ALF source code. Gets it from \n",
    "                                           # environment variable ALF_DIR, if present\n",
    "    devel=False,\n",
    "    hdf5=True,\n",
    ")"
   ]
  },
  {
   "cell_type": "markdown",
   "metadata": {},
   "source": [
    "**3.** Compile ALF, downloading it first from the [ALF repository](https://git.physik.uni-wuerzburg.de:ALF) if not found locally. This may take a few minutes:"
   ]
  },
  {
   "cell_type": "code",
   "execution_count": 5,
   "metadata": {},
   "outputs": [
    {
     "name": "stdout",
     "output_type": "stream",
     "text": [
      "Compiling ALF... Done.\n"
     ]
    }
   ],
   "source": [
    "sim.compile()                              # Compilation needs to be performed only once"
   ]
  },
  {
   "cell_type": "markdown",
   "metadata": {},
   "source": [
    "**4.** Perform the simulation as specified in `sim`:"
   ]
  },
  {
   "cell_type": "code",
   "execution_count": 6,
   "metadata": {
    "scrolled": true
   },
   "outputs": [
    {
     "name": "stdout",
     "output_type": "stream",
     "text": [
      "Prepare directory \"/home/jonas/Programs/pyALF/Notebooks/ALF_data/Hubbard_Square\" for Monte Carlo run.\n",
      "Create new directory.\n",
      "Run /home/jonas/Programs/ALF/Prog/ALF.out\n"
     ]
    }
   ],
   "source": [
    "sim.run()                                  # Perform the actual simulation in ALF"
   ]
  },
  {
   "cell_type": "markdown",
   "metadata": {},
   "source": [
    "**5.** Perform some simple analyses:"
   ]
  },
  {
   "cell_type": "code",
   "execution_count": 7,
   "metadata": {
    "scrolled": true
   },
   "outputs": [],
   "source": [
    "sim.analysis()                             # Perform default analysis"
   ]
  },
  {
   "cell_type": "markdown",
   "metadata": {},
   "source": [
    "**6.** Store computed observables list:"
   ]
  },
  {
   "cell_type": "code",
   "execution_count": 8,
   "metadata": {},
   "outputs": [
    {
     "name": "stdout",
     "output_type": "stream",
     "text": [
      "/home/jonas/Programs/pyALF/Notebooks/ALF_data/Hubbard_Square/Pot_scalJ 1\n",
      "/home/jonas/Programs/pyALF/Notebooks/ALF_data/Hubbard_Square/Ener_scalJ 1\n",
      "/home/jonas/Programs/pyALF/Notebooks/ALF_data/Hubbard_Square/Kin_scalJ 1\n",
      "/home/jonas/Programs/pyALF/Notebooks/ALF_data/Hubbard_Square/Part_scalJ 1\n"
     ]
    }
   ],
   "source": [
    "obs = sim.get_obs()                        # Dictionary for the observables"
   ]
  },
  {
   "cell_type": "markdown",
   "metadata": {},
   "source": [
    "which are available for further analyses. For instance, the internal energy of the system (and its error) is accessed by:"
   ]
  },
  {
   "cell_type": "code",
   "execution_count": 9,
   "metadata": {},
   "outputs": [
    {
     "data": {
      "text/plain": [
       "array([[-29.84515829,   0.18265326]])"
      ]
     },
     "execution_count": 9,
     "metadata": {},
     "output_type": "execute_result"
    }
   ],
   "source": [
    "obs['Ener_scalJ']['obs']"
   ]
  },
  {
   "cell_type": "markdown",
   "metadata": {},
   "source": [
    "---\n",
    "**7.** Running again: The simulation can be resumed to increase the precision of the results."
   ]
  },
  {
   "cell_type": "code",
   "execution_count": 10,
   "metadata": {},
   "outputs": [
    {
     "name": "stdout",
     "output_type": "stream",
     "text": [
      "Prepare directory \"/home/jonas/Programs/pyALF/Notebooks/ALF_data/Hubbard_Square\" for Monte Carlo run.\n",
      "Resuming previous run.\n",
      "Run /home/jonas/Programs/ALF/Prog/ALF.out\n",
      "/home/jonas/Programs/pyALF/Notebooks/ALF_data/Hubbard_Square/Pot_scalJ 1\n",
      "/home/jonas/Programs/pyALF/Notebooks/ALF_data/Hubbard_Square/Ener_scalJ 1\n",
      "/home/jonas/Programs/pyALF/Notebooks/ALF_data/Hubbard_Square/Kin_scalJ 1\n",
      "/home/jonas/Programs/pyALF/Notebooks/ALF_data/Hubbard_Square/Part_scalJ 1\n",
      "[[-29.76374705   0.11951761]]\n",
      "\n",
      "Running again reduced the error from  0.1826532567418424  to  0.11951761001415867 .\n"
     ]
    }
   ],
   "source": [
    "sim.run()\n",
    "sim.analysis()\n",
    "obs2 = sim.get_obs()\n",
    "print(obs2['Ener_scalJ']['obs'])\n",
    "print(\"\\nRunning again reduced the error from \", obs['Ener_scalJ']['obs'][0][1],\" to \", obs2['Ener_scalJ']['obs'][0][1], \".\")"
   ]
  },
  {
   "cell_type": "markdown",
   "metadata": {},
   "source": [
    "**Note**: To run a fresh simulation - instead of performing a refinement over previous run(s) - the Monte Carlo run directory should be deleted before rerunning."
   ]
  },
  {
   "cell_type": "markdown",
   "metadata": {},
   "source": [
    "---\n",
    "## Exercises\n",
    "1. Rerun once again and check the new improvement in precision.\n",
    "2. Look at a few other observables (`sim.analysis()` outputs the names of those available).\n",
    "3. Change the lattice size by adding, e.g., `\"L1\": 4,` and `\"L2\": 1,` to the simulation parameters definitions of `sim` (step 2)."
   ]
  }
 ],
 "metadata": {
  "kernelspec": {
   "display_name": "Python 3",
   "language": "python",
   "name": "python3"
  },
  "language_info": {
   "codemirror_mode": {
    "name": "ipython",
    "version": 3
   },
   "file_extension": ".py",
   "mimetype": "text/x-python",
   "name": "python",
   "nbconvert_exporter": "python",
   "pygments_lexer": "ipython3",
   "version": "3.7.9"
  }
 },
 "nbformat": 4,
 "nbformat_minor": 2
}
