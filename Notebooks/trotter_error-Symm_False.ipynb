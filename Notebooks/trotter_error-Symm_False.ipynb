{
 "cells": [
  {
   "cell_type": "markdown",
   "metadata": {},
   "source": [
    "# Trotter systematic error - Hubbard on the square lattice "
   ]
  },
  {
   "cell_type": "markdown",
   "metadata": {},
   "source": [
    "In this example we use the [pyALF](https://git.physik.uni-wuerzburg.de/ALF/pyALF) interface to run ALF with the Mz choice of Hubbard-Stratonovich transformation (i.e., coupled to the $z$-component of the spin) on a $6\\times 6$ site square lattice, at $U/t=4$ half-band filling, and inverse temperature $\\beta t = 5$.\n",
    "\n",
    "We carry out a systematic $\\Delta \\tau  t$ extrapolation keeping    $\\Delta \\tau t  L_\\text{Trotter} = 2$  constant. Recall that  the formulation of the auxiliary field QMC approach is based on the symmetric Trotter decomposition \n",
    "$$\n",
    "e^{ -\\Delta \\tau \\left( \\hat{A} + \\hat{B} \\right) }  =  e^{ -\\Delta \\tau \\hat{A}/2}  e^{ -\\Delta \\tau  \\hat{B}  }   e^{ -\\Delta \\tau \\hat{A}/2}  +  \\mathcal{O} \\left (\\Delta  \\tau^3\\right)\n",
    "$$\n",
    "The overall error produced by this approximation is of the order $\\Delta \\tau^2$.  \n",
    "\n",
    "Bellow we go through the steps for performing this extrapolation: setting the simulation parameters, running it and analysing the data. A reference plot for this analyses is found in [ALF documentation](https://git.physik.uni-wuerzburg.de/ALF/ALF/-/blob/master/Documentation/doc.pdf), Sec. 2.3.2 (Symmetric Trotter decomposition).\n",
    "\n",
    "---\n",
    "\n",
    "**1.** Import `Simulation` class from the `py_alf` python module, which provides the interface with ALF, as well as mathematics and plotting packages:"
   ]
  },
  {
   "cell_type": "code",
   "execution_count": 1,
   "metadata": {},
   "outputs": [],
   "source": [
    "import os\n",
    "from py_alf import Simulation            # Interface with ALF\n",
    "# \n",
    "import numpy as np                       # Numerical library\n",
    "from scipy.optimize import curve_fit     # Numerical library\n",
    "import matplotlib.pyplot as plt          # Plotting library"
   ]
  },
  {
   "cell_type": "markdown",
   "metadata": {},
   "source": [
    "**2.** Create instances of `Simulation`, specifying the necessary parameters, in particular the different $\\Delta \\tau$ values:"
   ]
  },
  {
   "cell_type": "code",
   "execution_count": 2,
   "metadata": {},
   "outputs": [
    {
     "name": "stdout",
     "output_type": "stream",
     "text": [
      "dtau values used:\n",
      "0.05\n",
      "0.1\n",
      "0.15\n"
     ]
    }
   ],
   "source": [
    "sims = []                                # Vector of Simulation instances\n",
    "print('dtau values used:')\n",
    "for dtau in [0.05, 0.1, 0.15]:           # Values of dtau\n",
    "    print(dtau)\n",
    "    sim = Simulation(\n",
    "        'Hubbard',                       # Hamiltonian\n",
    "        {                                # Model and simulation parameters for each Simulation instance\n",
    "        'Model': 'Hubbard',              #    Base model\n",
    "        'Lattice_type': 'Square',        #    Lattice type\n",
    "        'L1': 6,                         #    Lattice length in the first unit vector direction\n",
    "        'L2': 6,                         #    Lattice length in the second unit vector direction\n",
    "        'Checkerboard': False,           #    Whether checkerboard decomposition is used or not\n",
    "        'Symm': False,                    #    Whether symmetrization takes place\n",
    "        'ham_T': 1.0,                    #    Hopping parameter\n",
    "        'ham_U': 4.0,                    #    Hubbard interaction\n",
    "        'ham_Tperp': 0.0,                #    For bilayer systems\n",
    "        'beta': 5.0,                     #    Inverse temperature\n",
    "        'Ltau': 0,                       #    '1' for time-displaced Green functions; '0' otherwise \n",
    "        'NSweep': 200,                   #    Number of sweeps per bin\n",
    "        'NBin': 10,                      #    Number of bins\n",
    "        'Dtau': dtau,                    #    Only dtau varies between simulations, Ltrot=beta/Dtau\n",
    "        'Mz': True,                      #    If true, sets the M_z-Hubbard model: Nf=2, N_sum=1,\n",
    "        },                               #             HS field couples to z-component of magnetization\n",
    "        alf_dir=os.getenv('ALF_DIR', './ALF'), # Directory with ALF source code. Gets it from \n",
    "                                               # environment variable ALF_DIR, if present\n",
    "    )\n",
    "    sims.append(sim)"
   ]
  },
  {
   "cell_type": "markdown",
   "metadata": {},
   "source": [
    "**3.** Compile ALF, downloading it first if not found locally. This may take a few minutes:"
   ]
  },
  {
   "cell_type": "code",
   "execution_count": 3,
   "metadata": {},
   "outputs": [
    {
     "name": "stdout",
     "output_type": "stream",
     "text": [
      "Compiling ALF... Done.\n"
     ]
    }
   ],
   "source": [
    "sims[0].compile()                        # Compilation needs to be performed only once"
   ]
  },
  {
   "cell_type": "markdown",
   "metadata": {},
   "source": [
    "**4.** Perform the simulations, as specified in each element of `sim`:"
   ]
  },
  {
   "cell_type": "code",
   "execution_count": 3,
   "metadata": {
    "scrolled": true
   },
   "outputs": [
    {
     "name": "stdout",
     "output_type": "stream",
     "text": [
      "Prepare directory \"/home/stafusa/ALF/pyALF/Notebooks/ALF_data/Hubbard_Square_L1=6_L2=6_Checkerboard=False_Symm=False_T=1.0_U=4.0_Tperp=0.0_beta=5.0_Dtau=0.05_Mz=True\" for Monte Carlo run.\n",
      "Create new directory.\n",
      "Run /home/stafusa/ALF/ALF/Prog/Hubbard.out\n",
      "Prepare directory \"/home/stafusa/ALF/pyALF/Notebooks/ALF_data/Hubbard_Square_L1=6_L2=6_Checkerboard=False_Symm=False_T=1.0_U=4.0_Tperp=0.0_beta=5.0_Dtau=0.1_Mz=True\" for Monte Carlo run.\n",
      "Create new directory.\n",
      "Run /home/stafusa/ALF/ALF/Prog/Hubbard.out\n",
      "Prepare directory \"/home/stafusa/ALF/pyALF/Notebooks/ALF_data/Hubbard_Square_L1=6_L2=6_Checkerboard=False_Symm=False_T=1.0_U=4.0_Tperp=0.0_beta=5.0_Dtau=0.15_Mz=True\" for Monte Carlo run.\n",
      "Create new directory.\n",
      "Run /home/stafusa/ALF/ALF/Prog/Hubbard.out\n"
     ]
    }
   ],
   "source": [
    "for i, sim in enumerate(sims):\n",
    "    sim.run()                            # Perform the actual simulation in ALF"
   ]
  },
  {
   "cell_type": "markdown",
   "metadata": {},
   "source": [
    "**5.** Calculate the internal energies:"
   ]
  },
  {
   "cell_type": "code",
   "execution_count": 4,
   "metadata": {
    "scrolled": true
   },
   "outputs": [
    {
     "name": "stdout",
     "output_type": "stream",
     "text": [
      "/home/stafusa/ALF/pyALF/Notebooks/ALF_data/Hubbard_Square_L1=6_L2=6_Checkerboard=False_Symm=False_T=1.0_U=4.0_Tperp=0.0_beta=5.0_Dtau=0.05_Mz=True\n",
      "Analysing Ener_scal\n",
      "Analysing Part_scal\n",
      "Analysing Pot_scal\n",
      "Analysing Kin_scal\n",
      "Analysing Den_eq\n",
      "Analysing SpinZ_eq\n",
      "Analysing Green_eq\n",
      "Analysing SpinXY_eq\n",
      "Analysing SpinT_eq\n",
      "/home/stafusa/ALF/pyALF/Notebooks/ALF_data/Hubbard_Square_L1=6_L2=6_Checkerboard=False_Symm=False_T=1.0_U=4.0_Tperp=0.0_beta=5.0_Dtau=0.05_Mz=True/Ener_scalJ 1\n",
      "/home/stafusa/ALF/pyALF/Notebooks/ALF_data/Hubbard_Square_L1=6_L2=6_Checkerboard=False_Symm=False_T=1.0_U=4.0_Tperp=0.0_beta=5.0_Dtau=0.1_Mz=True\n",
      "Analysing Ener_scal\n",
      "Analysing Part_scal\n",
      "Analysing Pot_scal\n",
      "Analysing Kin_scal\n",
      "Analysing Den_eq\n",
      "Analysing SpinZ_eq\n",
      "Analysing Green_eq\n",
      "Analysing SpinXY_eq\n",
      "Analysing SpinT_eq\n",
      "/home/stafusa/ALF/pyALF/Notebooks/ALF_data/Hubbard_Square_L1=6_L2=6_Checkerboard=False_Symm=False_T=1.0_U=4.0_Tperp=0.0_beta=5.0_Dtau=0.1_Mz=True/Ener_scalJ 1\n",
      "/home/stafusa/ALF/pyALF/Notebooks/ALF_data/Hubbard_Square_L1=6_L2=6_Checkerboard=False_Symm=False_T=1.0_U=4.0_Tperp=0.0_beta=5.0_Dtau=0.15_Mz=True\n",
      "Analysing Ener_scal\n",
      "Analysing Part_scal\n",
      "Analysing Pot_scal\n",
      "Analysing Kin_scal\n",
      "Analysing Den_eq\n",
      "Analysing SpinZ_eq\n",
      "Analysing Green_eq\n",
      "Analysing SpinXY_eq\n",
      "Analysing SpinT_eq\n",
      "/home/stafusa/ALF/pyALF/Notebooks/ALF_data/Hubbard_Square_L1=6_L2=6_Checkerboard=False_Symm=False_T=1.0_U=4.0_Tperp=0.0_beta=5.0_Dtau=0.15_Mz=True/Ener_scalJ 1\n"
     ]
    }
   ],
   "source": [
    "ener = np.empty((len(sims), 2))          # Matrix for storing energy values\n",
    "dtaus = np.empty((len(sims),))           # Matrix for Dtau values, for plotting\n",
    "for i, sim in enumerate(sims):\n",
    "    print(sim.sim_dir)                   # Directory containing the simulation output\n",
    "    sim.analysis()                       # Perform default analysis\n",
    "    dtaus[i] = sim.sim_dict['Dtau']                             # Store Dtau value\n",
    "    ener[i] = sim.get_obs(['Ener_scalJ'])['Ener_scalJ']['obs']  # Store internal energy"
   ]
  },
  {
   "cell_type": "code",
   "execution_count": 5,
   "metadata": {},
   "outputs": [
    {
     "name": "stdout",
     "output_type": "stream",
     "text": [
      "For Dtau values [0.05 0.1  0.15] the measured energies are:\n",
      " [[-29.913009   0.060541]\n",
      " [-30.444287   0.05033 ]\n",
      " [-31.353214   0.041533]]\n"
     ]
    }
   ],
   "source": [
    "print('For Dtau values', dtaus, 'the measured energies are:\\n', ener)"
   ]
  },
  {
   "cell_type": "code",
   "execution_count": 6,
   "metadata": {
    "scrolled": true
   },
   "outputs": [
    {
     "name": "stdout",
     "output_type": "stream",
     "text": [
      "[-29.72776303 -72.18214148] [0.05643336 3.44525657]\n"
     ]
    },
    {
     "data": {
      "text/plain": [
       "<ErrorbarContainer object of 3 artists>"
      ]
     },
     "execution_count": 6,
     "metadata": {},
     "output_type": "execute_result"
    },
    {
     "data": {
      "image/png": "[encoded data removed]",
      "text/plain": [
       "<Figure size 432x288 with 1 Axes>"
      ]
     },
     "metadata": {
      "needs_background": "light"
     },
     "output_type": "display_data"
    }
   ],
   "source": [
    "plt.errorbar(dtaus**2, ener[:, 0], ener[:, 1])\n",
    "\n",
    "def func(x, y0, a):\n",
    "    return y0 + a*x**2\n",
    "popt1, pcov = curve_fit(func, dtaus, ener[:, 0], sigma=ener[:, 1], absolute_sigma=True)\n",
    "perr1 = np.sqrt(np.diag(pcov))\n",
    "print(popt1, perr1)\n",
    "xs = np.linspace(0., dtaus.max())\n",
    "plt.plot(xs**2, func(xs, *popt1))\n",
    "\n",
    "plt.errorbar(0, popt1[0], perr1[0])"
   ]
  },
  {
   "cell_type": "markdown",
   "metadata": {},
   "source": [
    "---\n",
    "## Exercises\n",
    "1. Try out the four different combinations for `Checkerboard` and `Symm` settings in order to observe their effect on the output and run time. Reference: Sec. 2.3.2 - Symmetric Trotter decomposition - of the [ALF documentation](https://git.physik.uni-wuerzburg.de/ALF/ALF/-/blob/master/Documentation/doc.pdf), especially Fig. 2."
   ]
  }
 ],
 "metadata": {
  "kernelspec": {
   "display_name": "Python 3",
   "language": "python",
   "name": "python3"
  },
  "language_info": {
   "codemirror_mode": {
    "name": "ipython",
    "version": 3
   },
   "file_extension": ".py",
   "mimetype": "text/x-python",
   "name": "python",
   "nbconvert_exporter": "python",
   "pygments_lexer": "ipython3",
   "version": "3.7.3"
  }
 },
 "nbformat": 4,
 "nbformat_minor": 2
}
